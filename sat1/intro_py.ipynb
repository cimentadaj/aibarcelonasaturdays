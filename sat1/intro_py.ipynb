{
 "cells": [
  {
   "cell_type": "code",
   "execution_count": 92,
   "metadata": {},
   "outputs": [
    {
     "name": "stdout",
     "output_type": "stream",
     "text": [
      "Help on built-in function abs in module builtins:\n",
      "\n",
      "abs(x, /)\n",
      "    Return the absolute value of the argument.\n",
      "\n"
     ]
    }
   ],
   "source": [
    "# This is how you get help from a function or object\n",
    "help(-1) # this gets help on an integer object and it's methods\n",
    "help(abs) # his is how you get help on a function"
   ]
  },
  {
   "cell_type": "code",
   "execution_count": null,
   "metadata": {},
   "outputs": [],
   "source": []
  },
  {
   "cell_type": "code",
   "execution_count": 1,
   "metadata": {},
   "outputs": [],
   "source": [
    "# Use ! to execute bash files\n",
    "# and save that into objects\n",
    "files = !ls\n",
    "\n",
    "# But this only works in Jupyter Notebook!"
   ]
  },
  {
   "cell_type": "code",
   "execution_count": 93,
   "metadata": {},
   "outputs": [
    {
     "data": {
      "text/plain": [
       "[1]"
      ]
     },
     "execution_count": 93,
     "metadata": {},
     "output_type": "execute_result"
    }
   ],
   "source": [
    "a = b = 1\n",
    "a = 2\n",
    "b\n",
    "\n",
    "# Lists are mutable\n",
    "a = b = []\n",
    "a.append(1)\n",
    "b\n",
    "\n",
    "# But tuples and integers (and other classes) no!\n",
    "a = b = 1\n",
    "a = 2\n",
    "b"
   ]
  },
  {
   "cell_type": "markdown",
   "metadata": {},
   "source": [
    "## Hey\n",
    "This is a markdown document"
   ]
  },
  {
   "cell_type": "code",
   "execution_count": 142,
   "metadata": {},
   "outputs": [
    {
     "data": {
      "text/plain": [
       "'a'"
      ]
     },
     "execution_count": 142,
     "metadata": {},
     "output_type": "execute_result"
    }
   ],
   "source": [
    "# Dictionaries are a bit different. They don't have an inherent order, so you can't subset\n",
    "# by index but by keys, which are the names of each slot\n",
    "\n",
    "dict = {'a':1, 'b':2}\n",
    "# dict[0] # doesn't work\n",
    "dict['a'] # does work\n",
    "\n",
    "# Get all keys\n",
    "all_keys = dict.keys()\n",
    "\n",
    "# You can also put numbers, and they will be literally numbers. So to subset\n",
    "# you use the same number\n",
    "dict = {1:'a', 2:'b'}\n",
    "dict[1]\n"
   ]
  },
  {
   "cell_type": "code",
   "execution_count": 146,
   "metadata": {},
   "outputs": [
    {
     "data": {
      "text/plain": [
       "{4: 'abc', 'abc': 3}"
      ]
     },
     "execution_count": 146,
     "metadata": {},
     "output_type": "execute_result"
    }
   ],
   "source": [
    "d = {}\n",
    "d['abc'] = 3\n",
    "d[4] = 'abc'\n",
    "d"
   ]
  },
  {
   "cell_type": "code",
   "execution_count": 86,
   "metadata": {},
   "outputs": [
    {
     "data": {
      "text/plain": [
       "{1: 0, 2: 1, 3: 2}"
      ]
     },
     "execution_count": 86,
     "metadata": {},
     "output_type": "execute_result"
    }
   ],
   "source": [
    "dict = {}\n",
    "\n",
    "for index, element in enumerate([1, 2, 3]):\n",
    "    dict.update({element:index})\n",
    "    \n",
    "dict"
   ]
  },
  {
   "cell_type": "code",
   "execution_count": 89,
   "metadata": {},
   "outputs": [
    {
     "data": {
      "text/plain": [
       "1"
      ]
     },
     "execution_count": 89,
     "metadata": {},
     "output_type": "execute_result"
    }
   ],
   "source": [
    "letters = ['a', 'b', 'c']\n",
    "num = [1, 2, 3, 4]\n",
    "empty_dict = {}\n",
    "\n",
    "def dict_create(num, letters):\n",
    "    if (len(num) == len(letters)):\n",
    "        for x in range(len(num)):\n",
    "            empty_dict.update({letters[x]:num[x]})\n",
    "        return(empty_dict)\n",
    "    else:\n",
    "        return(empty_dict)\n",
    "\n",
    "dict_create(num, letters)\n"
   ]
  },
  {
   "cell_type": "code",
   "execution_count": 97,
   "metadata": {},
   "outputs": [],
   "source": [
    "from math import * # avoid having to put a math. in front of every mathematical function\n",
    "import math # imports all math functions but have to use math.\n",
    "from math import pi # only imports a function from"
   ]
  },
  {
   "cell_type": "code",
   "execution_count": 104,
   "metadata": {},
   "outputs": [
    {
     "data": {
      "text/plain": [
       "12"
      ]
     },
     "execution_count": 104,
     "metadata": {},
     "output_type": "execute_result"
    }
   ],
   "source": [
    "# convert to different class\n",
    "str(2) \n",
    "int('12')"
   ]
  },
  {
   "cell_type": "code",
   "execution_count": 107,
   "metadata": {},
   "outputs": [
    {
     "name": "stdout",
     "output_type": "stream",
     "text": [
      "Hello...World!!"
     ]
    }
   ],
   "source": [
    "print(\"Hello\",\"World\",sep='...',end='!!')\n",
    "# To concatenate a print\n",
    "# How would oyu do it to concatenate seprate strings?"
   ]
  },
  {
   "cell_type": "code",
   "execution_count": 116,
   "metadata": {},
   "outputs": [
    {
     "data": {
      "text/plain": [
       "''"
      ]
     },
     "execution_count": 116,
     "metadata": {},
     "output_type": "execute_result"
    }
   ],
   "source": [
    "# Subseting strings\n",
    "string = '123456789'\n",
    "string[0]\n",
    "string[1:2]\n",
    "string[-1:-3] # Why is this different form the one below?\n",
    "string[-1:-3:-1] # Because it's going DOWN"
   ]
  },
  {
   "cell_type": "code",
   "execution_count": 122,
   "metadata": {},
   "outputs": [
    {
     "data": {
      "text/plain": [
       "6"
      ]
     },
     "execution_count": 122,
     "metadata": {},
     "output_type": "execute_result"
    }
   ],
   "source": [
    "x = [1, 2, 3]\n",
    "min(x)\n",
    "max(x)\n",
    "sum(x)"
   ]
  },
  {
   "cell_type": "code",
   "execution_count": 130,
   "metadata": {},
   "outputs": [
    {
     "data": {
      "text/plain": [
       "2"
      ]
     },
     "execution_count": 130,
     "metadata": {},
     "output_type": "execute_result"
    }
   ],
   "source": [
    "list(\"hey\") # turns hey into a list for every character\n",
    "\"hey world\".split(sep = \" \") # turns into a two length list\n",
    "\n",
    "hey = [1, 2, 1, 2, 3, 1]\n",
    "hey.count(2)"
   ]
  },
  {
   "cell_type": "code",
   "execution_count": 136,
   "metadata": {},
   "outputs": [
    {
     "data": {
      "text/plain": [
       "(1, 3, 3)"
      ]
     },
     "execution_count": 136,
     "metadata": {},
     "output_type": "execute_result"
    }
   ],
   "source": [
    "\n",
    "tup = (1, 3)\n",
    "listt = []\n",
    "tup + (3,)"
   ]
  },
  {
   "cell_type": "code",
   "execution_count": 139,
   "metadata": {},
   "outputs": [
    {
     "name": "stdout",
     "output_type": "stream",
     "text": [
      "{1}\n"
     ]
    }
   ],
   "source": [
    "lst = [1, 1, 1, 1]\n",
    "our_set = set(lst) # get the unique values of a list\n",
    "print(our_set) # and it now of class set"
   ]
  },
  {
   "cell_type": "code",
   "execution_count": 148,
   "metadata": {},
   "outputs": [
    {
     "data": {
      "text/plain": [
       "3"
      ]
     },
     "execution_count": 148,
     "metadata": {},
     "output_type": "execute_result"
    }
   ],
   "source": [
    "# zip() to loop over N elements\n",
    "# reversed to loop over a reversed object\n",
    "# enumerate to loop over the slot and index of an object\n",
    "# sorted to loop over a sorted element.\n",
    "\n",
    "a = [1]\n",
    "b = [1]\n",
    "c = [1]\n",
    "\n",
    "for a,b,c in zip(a, b, c):\n",
    "    d = a + b + c\n",
    "    \n",
    "d"
   ]
  },
  {
   "cell_type": "code",
   "execution_count": 152,
   "metadata": {},
   "outputs": [
    {
     "name": "stdout",
     "output_type": "stream",
     "text": [
      "2\n",
      "1\n"
     ]
    }
   ],
   "source": [
    "for x in reversed([1, 2]):\n",
    "    print(x)\n",
    "    \n",
    "# but reversed doesn't return [2, 1] but rather an obbject reversed that only works\n",
    "# in iterations"
   ]
  },
  {
   "cell_type": "code",
   "execution_count": 162,
   "metadata": {},
   "outputs": [
    {
     "data": {
      "text/plain": [
       "['ab', 'bb', 'cb']"
      ]
     },
     "execution_count": 162,
     "metadata": {},
     "output_type": "execute_result"
    }
   ],
   "source": [
    "# You can also loop through letters, because they're like lists\n",
    "p = []\n",
    "for x in 'abc':\n",
    "    p.append(x)\n",
    "p\n",
    "\n",
    "for index, item in enumerate(p):\n",
    "    p[index] = p[index] + 'b'\n",
    "p"
   ]
  },
  {
   "cell_type": "code",
   "execution_count": 163,
   "metadata": {},
   "outputs": [
    {
     "data": {
      "text/plain": [
       "[0, 1, 2, 3, 4]"
      ]
     },
     "execution_count": 163,
     "metadata": {},
     "output_type": "execute_result"
    }
   ],
   "source": [
    "#NOTE: Important!\n",
    "# Use list(range(5)) to get a list with a range\n",
    "list(range(5))"
   ]
  },
  {
   "cell_type": "code",
   "execution_count": 167,
   "metadata": {},
   "outputs": [
    {
     "data": {
      "text/plain": [
       "1"
      ]
     },
     "execution_count": 167,
     "metadata": {},
     "output_type": "execute_result"
    }
   ],
   "source": [
    "# If a fun doesn't ahve return it won't return anything.\n",
    "def some_fun():\n",
    "    return(1)\n",
    "    \n",
    "some_fun()"
   ]
  },
  {
   "cell_type": "code",
   "execution_count": 169,
   "metadata": {},
   "outputs": [
    {
     "data": {
      "text/plain": [
       "1"
      ]
     },
     "execution_count": 169,
     "metadata": {},
     "output_type": "execute_result"
    }
   ],
   "source": [
    "# You can pass anything as an argument\n",
    "def absoluter(x, fun):\n",
    "    return(fun(x))\n",
    "\n",
    "absoluter(-1, abs)"
   ]
  },
  {
   "cell_type": "code",
   "execution_count": 173,
   "metadata": {},
   "outputs": [
    {
     "data": {
      "text/plain": [
       "1"
      ]
     },
     "execution_count": 173,
     "metadata": {},
     "output_type": "execute_result"
    }
   ],
   "source": [
    "# Functions that change global values inside a function are not reflected outside. It's just like R.\n",
    "b = 1\n",
    "def changer(a):\n",
    "    a += 1\n",
    "\n",
    "changer(b)\n",
    "b"
   ]
  },
  {
   "cell_type": "code",
   "execution_count": 175,
   "metadata": {},
   "outputs": [
    {
     "data": {
      "text/plain": [
       "(1, 2, 3)"
      ]
     },
     "execution_count": 175,
     "metadata": {},
     "output_type": "execute_result"
    }
   ],
   "source": [
    "# You can return tuples by default\n",
    "def a_tuple(c, b, d):\n",
    "    return c, b, d\n",
    "a_tuple(1, 2, 3)"
   ]
  },
  {
   "cell_type": "code",
   "execution_count": 180,
   "metadata": {},
   "outputs": [
    {
     "data": {
      "text/plain": [
       "6"
      ]
     },
     "execution_count": 180,
     "metadata": {},
     "output_type": "execute_result"
    }
   ],
   "source": [
    "# If we don't know the number of arguments that the fun will have, we specify it with *args\n",
    "def many_args(*args):\n",
    "    p = 0\n",
    "    for x in args:\n",
    "        p = p + x\n",
    "    return(p)\n",
    "\n",
    "many_args(1, 2, 3)"
   ]
  },
  {
   "cell_type": "code",
   "execution_count": 195,
   "metadata": {},
   "outputs": [
    {
     "data": {
      "text/plain": [
       "array([1, 2, 3, 4, 5, 6])"
      ]
     },
     "execution_count": 195,
     "metadata": {},
     "output_type": "execute_result"
    }
   ],
   "source": [
    "## Introduction to numpy and matplotlib\n",
    "import numpy as np\n",
    "\n",
    "m = np.array([1, 2, 3, 4, 5, 6])\n",
    "m"
   ]
  },
  {
   "cell_type": "code",
   "execution_count": 196,
   "metadata": {},
   "outputs": [
    {
     "data": {
      "text/plain": [
       "[[4, 0], [7, 2], [2, 3]]"
      ]
     },
     "execution_count": 196,
     "metadata": {},
     "output_type": "execute_result"
    }
   ],
   "source": [
    "mat = [[4, 0], [7, 2], [2, 3]]\n",
    "\n",
    "mat"
   ]
  },
  {
   "cell_type": "code",
   "execution_count": 199,
   "metadata": {},
   "outputs": [
    {
     "data": {
      "text/plain": [
       "8.0"
      ]
     },
     "execution_count": 199,
     "metadata": {},
     "output_type": "execute_result"
    }
   ],
   "source": [
    "## Solving a the area of a polygon with a series of coordinates.\n",
    "import numpy as np\n",
    "\n",
    "m1 = np.array([(1, 1), (1, -4)])\n",
    "m2 = np.array([(1, 3), (-4, -5)])\n",
    "m3 = np.array([(3, 3), (-5, -2)])\n",
    "m4 = np.array([(3, 1), (-2, 1)])\n",
    "\n",
    "d1 = np.linalg.det(m1)\n",
    "d2 = np.linalg.det(m2)\n",
    "d3 = np.linalg.det(m3)\n",
    "d4 = np.linalg.det(m4)\n",
    "\n",
    "A = (1/2)*(d1+d2+d3+d4)\n",
    "A"
   ]
  },
  {
   "cell_type": "code",
   "execution_count": 201,
   "metadata": {},
   "outputs": [
    {
     "name": "stdout",
     "output_type": "stream",
     "text": [
      "Help on package numpy.linalg in numpy:\n",
      "\n",
      "NAME\n",
      "    numpy.linalg\n",
      "\n",
      "DESCRIPTION\n",
      "    Core Linear Algebra Tools\n",
      "    -------------------------\n",
      "    Linear algebra basics:\n",
      "    \n",
      "    - norm            Vector or matrix norm\n",
      "    - inv             Inverse of a square matrix\n",
      "    - solve           Solve a linear system of equations\n",
      "    - det             Determinant of a square matrix\n",
      "    - lstsq           Solve linear least-squares problem\n",
      "    - pinv            Pseudo-inverse (Moore-Penrose) calculated using a singular\n",
      "                      value decomposition\n",
      "    - matrix_power    Integer power of a square matrix\n",
      "    \n",
      "    Eigenvalues and decompositions:\n",
      "    \n",
      "    - eig             Eigenvalues and vectors of a square matrix\n",
      "    - eigh            Eigenvalues and eigenvectors of a Hermitian matrix\n",
      "    - eigvals         Eigenvalues of a square matrix\n",
      "    - eigvalsh        Eigenvalues of a Hermitian matrix\n",
      "    - qr              QR decomposition of a matrix\n",
      "    - svd             Singular value decomposition of a matrix\n",
      "    - cholesky        Cholesky decomposition of a matrix\n",
      "    \n",
      "    Tensor operations:\n",
      "    \n",
      "    - tensorsolve     Solve a linear tensor equation\n",
      "    - tensorinv       Calculate an inverse of a tensor\n",
      "    \n",
      "    Exceptions:\n",
      "    \n",
      "    - LinAlgError     Indicates a failed linear algebra operation\n",
      "\n",
      "PACKAGE CONTENTS\n",
      "    _umath_linalg\n",
      "    info\n",
      "    lapack_lite\n",
      "    linalg\n",
      "    setup\n",
      "    tests (package)\n",
      "\n",
      "DATA\n",
      "    absolute_import = _Feature((2, 5, 0, 'alpha', 1), (3, 0, 0, 'alpha', 0...\n",
      "    division = _Feature((2, 2, 0, 'alpha', 2), (3, 0, 0, 'alpha', 0), 8192...\n",
      "    print_function = _Feature((2, 6, 0, 'alpha', 2), (3, 0, 0, 'alpha', 0)...\n",
      "\n",
      "FILE\n",
      "    /Users/aferres/anaconda3/lib/python3.6/site-packages/numpy/linalg/__init__.py\n",
      "\n",
      "\n"
     ]
    }
   ],
   "source": [
    "help(np.linalg)"
   ]
  },
  {
   "cell_type": "code",
   "execution_count": null,
   "metadata": {},
   "outputs": [],
   "source": []
  }
 ],
 "metadata": {
  "kernelspec": {
   "display_name": "Python 3",
   "language": "python",
   "name": "python3"
  },
  "language_info": {
   "codemirror_mode": {
    "name": "ipython",
    "version": 3
   },
   "file_extension": ".py",
   "mimetype": "text/x-python",
   "name": "python",
   "nbconvert_exporter": "python",
   "pygments_lexer": "ipython3",
   "version": "3.6.4"
  }
 },
 "nbformat": 4,
 "nbformat_minor": 2
}
